{
 "cells": [
  {
   "cell_type": "code",
   "execution_count": null,
   "id": "79993a06",
   "metadata": {},
   "outputs": [
    {
     "name": "stdout",
     "output_type": "stream",
     "text": [
      " * Serving Flask app '__main__'\n",
      " * Debug mode: off\n"
     ]
    },
    {
     "name": "stderr",
     "output_type": "stream",
     "text": [
      "WARNING: This is a development server. Do not use it in a production deployment. Use a production WSGI server instead.\n",
      " * Running on http://127.0.0.1:4000\n",
      "Press CTRL+C to quit\n",
      "127.0.0.1 - - [26/Aug/2025 01:53:04] \"GET / HTTP/1.1\" 404 -\n",
      "127.0.0.1 - - [26/Aug/2025 01:53:04] \"GET /favicon.ico HTTP/1.1\" 404 -\n",
      "127.0.0.1 - - [26/Aug/2025 01:53:35] \"GET / HTTP/1.1\" 404 -\n",
      "127.0.0.1 - - [26/Aug/2025 01:53:37] \"GET / HTTP/1.1\" 404 -\n",
      "127.0.0.1 - - [26/Aug/2025 01:54:35] \"GET /products HTTP/1.1\" 200 -\n"
     ]
    }
   ],
   "source": [
    "from flask import Flask, request, jsonify\n",
    "from flask_cors import CORS\n",
    "import gspread\n",
    "from oauth2client.service_account import ServiceAccountCredentials\n",
    "\n",
    "app = Flask(__name__)\n",
    "CORS(app)\n",
    "\n",
    "# Google Sheets authentication\n",
    "scope = [\"https://spreadsheets.google.com/feeds\",\n",
    "         \"https://www.googleapis.com/auth/drive\"]\n",
    "\n",
    "creds = ServiceAccountCredentials.from_json_keyfile_name(\"credentials.json\", scope)\n",
    "client = gspread.authorize(creds)\n",
    "\n",
    "# Open your sheet\n",
    "SPREADSHEET_ID = \"1zhMAONxk6Hz0Hz5EZFxCf-NdfwYlYRezW5War-mjHH8\"  \n",
    "sheet = client.open_by_key(SPREADSHEET_ID).worksheet(\"DB_Sheet\")\n",
    "\n",
    "# Fetch all products\n",
    "@app.route(\"/products\", methods=[\"GET\"])\n",
    "def get_products():\n",
    "    try:\n",
    "        data = sheet.get_all_records()\n",
    "        return jsonify(data)\n",
    "    except Exception as e:\n",
    "        return jsonify({\"error\": str(e)}), 500\n",
    "\n",
    "# Update rating\n",
    "@app.route(\"/update-rating\", methods=[\"POST\"])\n",
    "def update_rating():\n",
    "    try:\n",
    "        req = request.get_json()\n",
    "        product_id = str(req.get(\"id\"))\n",
    "        new_rating = req.get(\"newRating\")\n",
    "\n",
    "        if not product_id or new_rating is None:\n",
    "            return jsonify({\"error\": \"Missing id or newRating\"}), 400\n",
    "\n",
    "        records = sheet.get_all_records()\n",
    "        for idx, row in enumerate(records, start=2):  # start=2 (row 1 is headers)\n",
    "            if str(row[\"id\"]) == product_id:\n",
    "                sheet.update_cell(idx, 9, new_rating)  # column 9 = rating\n",
    "                return jsonify({\"success\": True, \"id\": product_id, \"newRating\": new_rating})\n",
    "\n",
    "        return jsonify({\"error\": \"Product not found\"}), 404\n",
    "    except Exception as e:\n",
    "        return jsonify({\"error\": str(e)}), 500\n",
    "\n",
    "# Add new product\n",
    "@app.route(\"/add-product\", methods=[\"POST\"])\n",
    "def add_product():\n",
    "    try:\n",
    "        req = request.get_json()\n",
    "\n",
    "        new_row = [\n",
    "            req.get(\"id\"),\n",
    "            req.get(\"date\"),\n",
    "            req.get(\"category\"),\n",
    "            req.get(\"unit_measurement\"),\n",
    "            req.get(\"price\"),\n",
    "            req.get(\"freshness\"),\n",
    "            req.get(\"vendor\"),\n",
    "            req.get(\"location\"),\n",
    "            req.get(\"rating\"),\n",
    "            req.get(\"image_url\"),\n",
    "        ]\n",
    "\n",
    "        # Ensure no missing required fields\n",
    "        if any(v is None for v in new_row):\n",
    "            return jsonify({\"error\": \"Missing required fields\"}), 400\n",
    "\n",
    "        sheet.append_row(new_row)\n",
    "        return jsonify({\"success\": True, \"product\": new_row})\n",
    "    except Exception as e:\n",
    "        return jsonify({\"error\": str(e)}), 500\n",
    "\n",
    "if __name__ == \"__main__\":\n",
    "    #app.run(port=4000, debug=True)\n",
    "    app.run(port=4000, debug=False, use_reloader=False)"
   ]
  },
  {
   "cell_type": "code",
   "execution_count": null,
   "id": "5f88b152",
   "metadata": {},
   "outputs": [
    {
     "name": "stdout",
     "output_type": "stream",
     "text": [
      "Working dir: c:\\Users\\user\\Python_projects\\React_Projects\\githu_project\\Backend\n",
      "File exists: True\n"
     ]
    }
   ],
   "source": [
    "import requests\n",
    "# Read Everything\n",
    "resp = requests.get(\"http://127.0.0.1:4000/products\")\n",
    "print(resp.json())\n",
    "\n",
    "\n",
    "#Update rating (for product with id=1 for example):\n",
    "resp = requests.post(\"http://127.0.0.1:4000/update-rating\", json={\"id\": 1, \"newRating\": 3})\n",
    "print(resp.json())\n",
    "\n",
    "#Add a new product:\n",
    "resp = requests.post(\"http://127.0.0.1:4000/add-product\", json={\n",
    "    \"id\": 20,\n",
    "    \"date\": \"2025-08-26\",\n",
    "    \"category\": \"Tomatoes\",\n",
    "    \"unit_measurement\": \"KG\",\n",
    "    \"price\": \"50/KG\",\n",
    "    \"freshness\": \"Today\",\n",
    "    \"vendor\": \"Vendor Z\",\n",
    "    \"location\": \"CBD\",\n",
    "    \"rating\": 5,\n",
    "    \"image_url\": \"src/assets/Tomatoes.jfif\"\n",
    "})\n",
    "print(resp.json())\n",
    "\n",
    "\n",
    "#If you want, we can add a welcome route like:\n",
    "@app.route(\"/\")\n",
    "def index():\n",
    "    return \"Backend is running! 🚀\""
   ]
  },
  {
   "cell_type": "code",
   "execution_count": null,
   "id": "f95051f2",
   "metadata": {},
   "outputs": [],
   "source": []
  }
 ],
 "metadata": {
  "kernelspec": {
   "display_name": "githu_venv",
   "language": "python",
   "name": "python3"
  },
  "language_info": {
   "codemirror_mode": {
    "name": "ipython",
    "version": 3
   },
   "file_extension": ".py",
   "mimetype": "text/x-python",
   "name": "python",
   "nbconvert_exporter": "python",
   "pygments_lexer": "ipython3",
   "version": "3.13.7"
  }
 },
 "nbformat": 4,
 "nbformat_minor": 5
}
